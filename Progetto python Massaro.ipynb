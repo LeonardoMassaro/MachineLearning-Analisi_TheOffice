{
 "cells": [
  {
   "cell_type": "code",
   "execution_count": 1,
   "metadata": {},
   "outputs": [],
   "source": [
    "import pandas as pd\n",
    "import numpy as np\n"
   ]
  },
  {
   "cell_type": "code",
   "execution_count": 2,
   "metadata": {},
   "outputs": [],
   "source": [
    "dati = pd.read_csv('C:/Users/ACER_User/OneDrive/Desktop/dati_episodi2.csv',sep=';')"
   ]
  },
  {
   "cell_type": "code",
   "execution_count": 3,
   "metadata": {},
   "outputs": [
    {
     "name": "stdout",
     "output_type": "stream",
     "text": [
      "    Episodi  Rating  dur_media_scene  n_scene_distinte  n_cambi_scena  \\\n",
      "0         1     7.4              4.4                 3              4   \n",
      "1         2     8.3             21.0                 1              0   \n",
      "2         3     7.7              4.4                 3              4   \n",
      "3         4     8.0              1.5                 3             14   \n",
      "4         5     8.4              1.6                 3             13   \n",
      "5         6     7.7              3.1                 2              6   \n",
      "6         7     8.7              5.2                 3              3   \n",
      "7         8     8.2              4.2                 3              4   \n",
      "8         9     8.3              1.7                 3             11   \n",
      "9        10     8.3              7.0                 1              2   \n",
      "10       11     8.1              7.3                 1              2   \n",
      "11       12     8.1              4.4                 2              4   \n",
      "12       13     8.6              1.6                 4             12   \n",
      "13       14     8.1             21.0                 1              0   \n",
      "14       15     8.4              3.5                 3              5   \n",
      "\n",
      "    HHI_battute  HHI_scene  \n",
      "0          0.10       0.20  \n",
      "1          0.23       0.09  \n",
      "2          0.16       0.12  \n",
      "3          0.14       0.07  \n",
      "4          0.26       0.02  \n",
      "5          0.17       0.24  \n",
      "6          0.18       0.90  \n",
      "7          0.11       0.01  \n",
      "8          1.00       0.70  \n",
      "9          0.90       0.90  \n",
      "10         0.26       0.15  \n",
      "11         0.20       0.13  \n",
      "12         0.14       0.11  \n",
      "13         0.18       0.09  \n",
      "14         0.17       0.23  \n"
     ]
    }
   ],
   "source": [
    "print(dati)"
   ]
  },
  {
   "cell_type": "markdown",
   "metadata": {},
   "source": [
    "REGRESSIONE LINEARE CON UN REGRESSORE"
   ]
  },
  {
   "cell_type": "code",
   "execution_count": 4,
   "metadata": {},
   "outputs": [
    {
     "data": {
      "text/plain": [
       "0.0004879441267181539"
      ]
     },
     "execution_count": 4,
     "metadata": {},
     "output_type": "execute_result"
    }
   ],
   "source": [
    "X = dati['dur_media_scene']\n",
    "y = dati['Rating']\n",
    "\n",
    "from sklearn.linear_model import LinearRegression\n",
    "\n",
    "X=X.to_numpy()\n",
    "X=X.reshape(-1,1)\n",
    "\n",
    "lr = LinearRegression().fit(X,y)\n",
    "\n",
    "\n",
    "lr.score(X,y)"
   ]
  },
  {
   "cell_type": "code",
   "execution_count": 5,
   "metadata": {},
   "outputs": [
    {
     "data": {
      "text/plain": [
       "0.014573032669469965"
      ]
     },
     "execution_count": 5,
     "metadata": {},
     "output_type": "execute_result"
    }
   ],
   "source": [
    "X = dati['n_scene_distinte']\n",
    "y = dati['Rating']\n",
    "\n",
    "from sklearn.linear_model import LinearRegression\n",
    "\n",
    "X=X.to_numpy()\n",
    "X=X.reshape(-1,1)\n",
    "\n",
    "lr = LinearRegression().fit(X,y)\n",
    "\n",
    "\n",
    "lr.score(X,y)"
   ]
  },
  {
   "cell_type": "code",
   "execution_count": 6,
   "metadata": {},
   "outputs": [
    {
     "data": {
      "text/plain": [
       "0.02420398357229736"
      ]
     },
     "execution_count": 6,
     "metadata": {},
     "output_type": "execute_result"
    }
   ],
   "source": [
    "X = dati['n_cambi_scena']\n",
    "y = dati['Rating']\n",
    "\n",
    "from sklearn.linear_model import LinearRegression\n",
    "\n",
    "X=X.to_numpy()\n",
    "X=X.reshape(-1,1)\n",
    "\n",
    "lr = LinearRegression().fit(X,y)\n",
    "\n",
    "\n",
    "lr.score(X,y)"
   ]
  },
  {
   "cell_type": "code",
   "execution_count": 7,
   "metadata": {},
   "outputs": [
    {
     "data": {
      "text/plain": [
       "0.05080978088282051"
      ]
     },
     "execution_count": 7,
     "metadata": {},
     "output_type": "execute_result"
    }
   ],
   "source": [
    "X = dati['HHI_battute']\n",
    "y = dati['Rating']\n",
    "\n",
    "from sklearn.linear_model import LinearRegression\n",
    "\n",
    "X=X.to_numpy()\n",
    "X=X.reshape(-1,1)\n",
    "\n",
    "lr = LinearRegression().fit(X,y)\n",
    "\n",
    "\n",
    "lr.score(X,y)"
   ]
  },
  {
   "cell_type": "code",
   "execution_count": 8,
   "metadata": {},
   "outputs": [
    {
     "data": {
      "text/plain": [
       "0.11617383733457431"
      ]
     },
     "execution_count": 8,
     "metadata": {},
     "output_type": "execute_result"
    }
   ],
   "source": [
    "X = dati['HHI_scene']\n",
    "y = dati['Rating']\n",
    "\n",
    "from sklearn.linear_model import LinearRegression\n",
    "\n",
    "X=X.to_numpy()\n",
    "X=X.reshape(-1,1)\n",
    "\n",
    "lr = LinearRegression().fit(X,y)\n",
    "\n",
    "\n",
    "lr.score(X,y)"
   ]
  },
  {
   "cell_type": "code",
   "execution_count": 27,
   "metadata": {},
   "outputs": [
    {
     "name": "stdout",
     "output_type": "stream",
     "text": [
      "    Episodi  Rating  dur_media_scene  n_scene_distinte  n_cambi_scena  \\\n",
      "0         1     7.4              4.4                 3              4   \n",
      "1         2     8.3             21.0                 1              0   \n",
      "2         3     7.7              4.4                 3              4   \n",
      "3         4     8.0              1.5                 3             14   \n",
      "4         5     8.4              1.6                 3             13   \n",
      "5         6     7.7              3.1                 2              6   \n",
      "6         7     8.7              5.2                 3              3   \n",
      "7         8     8.2              4.2                 3              4   \n",
      "8         9     8.3              1.7                 3             11   \n",
      "9        10     8.3              7.0                 1              2   \n",
      "10       11     8.1              7.3                 1              2   \n",
      "11       12     8.1              4.4                 2              4   \n",
      "12       13     8.6              1.6                 4             12   \n",
      "13       14     8.1             21.0                 1              0   \n",
      "14       15     8.4              3.5                 3              5   \n",
      "\n",
      "    HHI_battute  HHI_scene  \n",
      "0          0.10       0.20  \n",
      "1          0.23       0.09  \n",
      "2          0.16       0.12  \n",
      "3          0.14       0.07  \n",
      "4          0.26       0.02  \n",
      "5          0.17       0.24  \n",
      "6          0.18       0.90  \n",
      "7          0.11       0.01  \n",
      "8          1.00       0.70  \n",
      "9          0.90       0.90  \n",
      "10         0.26       0.15  \n",
      "11         0.20       0.13  \n",
      "12         0.14       0.11  \n",
      "13         0.18       0.09  \n",
      "14         0.17       0.23  \n"
     ]
    }
   ],
   "source": [
    "print(dati)"
   ]
  },
  {
   "cell_type": "markdown",
   "metadata": {},
   "source": [
    "REGRESSIONE LINEARE CON UN REGRESSORE"
   ]
  },
  {
   "cell_type": "code",
   "execution_count": 9,
   "metadata": {},
   "outputs": [
    {
     "name": "stdout",
     "output_type": "stream",
     "text": [
      "coefficient of determination: 0.04037879470561334\n"
     ]
    }
   ],
   "source": [
    "import numpy as np\n",
    "from sklearn.linear_model import LinearRegression\n",
    "from sklearn.model_selection import train_test_split\n",
    "from sklearn.preprocessing import StandardScaler\n",
    "X = dati.iloc[:,[2,3]]\n",
    "y = dati.iloc[:,1]\n",
    "model = LinearRegression()\n",
    "model.fit(X, y)\n",
    "model = LinearRegression().fit(X, y)\n",
    "r_sq = model.score(X, y)\n",
    "print('coefficient of determination:', r_sq)"
   ]
  },
  {
   "cell_type": "code",
   "execution_count": 10,
   "metadata": {},
   "outputs": [
    {
     "name": "stdout",
     "output_type": "stream",
     "text": [
      "coefficient of determination: 0.057167599079076314\n"
     ]
    }
   ],
   "source": [
    "import numpy as np\n",
    "from sklearn.linear_model import LinearRegression\n",
    "from sklearn.model_selection import train_test_split\n",
    "from sklearn.preprocessing import StandardScaler\n",
    "x = dati.iloc[:,[2,4]]\n",
    "y = dati.iloc[:,1]\n",
    "model = LinearRegression()\n",
    "model.fit(x, y)\n",
    "model = LinearRegression().fit(x, y)\n",
    "r_sq = model.score(x, y)\n",
    "print('coefficient of determination:', r_sq)"
   ]
  },
  {
   "cell_type": "code",
   "execution_count": 11,
   "metadata": {},
   "outputs": [
    {
     "name": "stdout",
     "output_type": "stream",
     "text": [
      "coefficient of determination: 0.05233834748744959\n"
     ]
    }
   ],
   "source": [
    "import numpy as np\n",
    "from sklearn.linear_model import LinearRegression\n",
    "from sklearn.model_selection import train_test_split\n",
    "from sklearn.preprocessing import StandardScaler\n",
    "x = dati.iloc[:,[2,5]]\n",
    "y = dati.iloc[:,1]\n",
    "model = LinearRegression()\n",
    "model.fit(x, y)\n",
    "model = LinearRegression().fit(x, y)\n",
    "r_sq = model.score(x, y)\n",
    "print('coefficient of determination:', r_sq)"
   ]
  },
  {
   "cell_type": "code",
   "execution_count": 17,
   "metadata": {},
   "outputs": [
    {
     "name": "stdout",
     "output_type": "stream",
     "text": [
      "coefficient of determination: 0.12037181061020341\n"
     ]
    }
   ],
   "source": [
    "import numpy as np\n",
    "from sklearn.linear_model import LinearRegression\n",
    "from sklearn.model_selection import train_test_split\n",
    "from sklearn.preprocessing import StandardScaler\n",
    "x = dati.iloc[:,[2,6]]\n",
    "y = dati.iloc[:,1]\n",
    "model = LinearRegression()\n",
    "model.fit(x, y)\n",
    "model = LinearRegression().fit(x, y)\n",
    "r_sq = model.score(x, y)\n",
    "print('coefficient of determination:', r_sq)\n"
   ]
  },
  {
   "cell_type": "code",
   "execution_count": 12,
   "metadata": {},
   "outputs": [
    {
     "name": "stdout",
     "output_type": "stream",
     "text": [
      "coefficient of determination: 0.02452257360548049\n"
     ]
    }
   ],
   "source": [
    "import numpy as np\n",
    "from sklearn.linear_model import LinearRegression\n",
    "from sklearn.model_selection import train_test_split\n",
    "from sklearn.preprocessing import StandardScaler\n",
    "x = dati.iloc[:,[3,4]]\n",
    "y = dati.iloc[:,1]\n",
    "model = LinearRegression()\n",
    "model.fit(x, y)\n",
    "model = LinearRegression().fit(x, y)\n",
    "r_sq = model.score(x, y)\n",
    "print('coefficient of determination:', r_sq)"
   ]
  },
  {
   "cell_type": "code",
   "execution_count": 21,
   "metadata": {},
   "outputs": [
    {
     "name": "stdout",
     "output_type": "stream",
     "text": [
      "coefficient of determination: 0.08154279450109314\n"
     ]
    }
   ],
   "source": [
    "import numpy as np\n",
    "from sklearn.linear_model import LinearRegression\n",
    "from sklearn.model_selection import train_test_split\n",
    "from sklearn.preprocessing import StandardScaler\n",
    "x = dati.iloc[:,[3,5]]\n",
    "y = dati.iloc[:,1]\n",
    "model = LinearRegression()\n",
    "model.fit(x, y)\n",
    "model = LinearRegression().fit(x, y)\n",
    "r_sq = model.score(x, y)\n",
    "print('coefficient of determination:', r_sq)"
   ]
  },
  {
   "cell_type": "code",
   "execution_count": 23,
   "metadata": {},
   "outputs": [
    {
     "name": "stdout",
     "output_type": "stream",
     "text": [
      "coefficient of determination: 0.13839725382768542\n"
     ]
    }
   ],
   "source": [
    "import numpy as np\n",
    "from sklearn.linear_model import LinearRegression\n",
    "from sklearn.model_selection import train_test_split\n",
    "from sklearn.preprocessing import StandardScaler\n",
    "x = dati.iloc[:,[3,6]]\n",
    "y = dati.iloc[:,1]\n",
    "model = LinearRegression()\n",
    "model.fit(x, y)\n",
    "model = LinearRegression().fit(x, y)\n",
    "r_sq = model.score(x, y)\n",
    "print('coefficient of determination:', r_sq)"
   ]
  },
  {
   "cell_type": "code",
   "execution_count": 25,
   "metadata": {},
   "outputs": [
    {
     "name": "stdout",
     "output_type": "stream",
     "text": [
      "coefficient of determination: 0.06961384151468075\n"
     ]
    }
   ],
   "source": [
    "import numpy as np\n",
    "from sklearn.linear_model import LinearRegression\n",
    "from sklearn.model_selection import train_test_split\n",
    "from sklearn.preprocessing import StandardScaler\n",
    "x = dati.iloc[:,[4,5]]\n",
    "y = dati.iloc[:,1]\n",
    "model = LinearRegression()\n",
    "model.fit(x, y)\n",
    "model = LinearRegression().fit(x, y)\n",
    "r_sq = model.score(x, y)\n",
    "print('coefficient of determination:', r_sq)"
   ]
  },
  {
   "cell_type": "code",
   "execution_count": 35,
   "metadata": {},
   "outputs": [
    {
     "name": "stdout",
     "output_type": "stream",
     "text": [
      "coefficient of determination: 0.15764497890845686\n"
     ]
    }
   ],
   "source": [
    "import numpy as np\n",
    "from sklearn.linear_model import LinearRegression\n",
    "from sklearn.model_selection import train_test_split\n",
    "from sklearn.preprocessing import StandardScaler\n",
    "x = dati.iloc[:,[4,6]]\n",
    "y = dati.iloc[:,1]\n",
    "model = LinearRegression()\n",
    "model.fit(x, y)\n",
    "model = LinearRegression().fit(x, y)\n",
    "r_sq = model.score(x, y)\n",
    "print('coefficient of determination:', r_sq)"
   ]
  },
  {
   "cell_type": "code",
   "execution_count": 14,
   "metadata": {},
   "outputs": [
    {
     "name": "stdout",
     "output_type": "stream",
     "text": [
      "coefficient of determination: 0.11636170977873328\n"
     ]
    }
   ],
   "source": [
    "import numpy as np\n",
    "from sklearn.linear_model import LinearRegression\n",
    "from sklearn.model_selection import train_test_split\n",
    "from sklearn.preprocessing import StandardScaler\n",
    "x = dati.iloc[:,[5,6]]\n",
    "y = dati.iloc[:,1]\n",
    "model = LinearRegression()\n",
    "model.fit(x, y)\n",
    "model = LinearRegression().fit(x, y)\n",
    "r_sq = model.score(x, y)\n",
    "print('coefficient of determination:', r_sq)"
   ]
  },
  {
   "cell_type": "code",
   "execution_count": 11,
   "metadata": {},
   "outputs": [
    {
     "name": "stdout",
     "output_type": "stream",
     "text": [
      "    Episodi  Rating  dur_media_scene  n_scene_distinte  n_cambi_scena  \\\n",
      "0         1     7.4              4.4                 3              4   \n",
      "1         2     8.3             21.0                 1              0   \n",
      "2         3     7.7              4.4                 3              4   \n",
      "3         4     8.0              1.5                 3             14   \n",
      "4         5     8.4              1.6                 3             13   \n",
      "5         6     7.7              3.1                 2              6   \n",
      "6         7     8.7              5.2                 3              3   \n",
      "7         8     8.2              4.2                 3              4   \n",
      "8         9     8.3              1.7                 3             11   \n",
      "9        10     8.3              7.0                 1              2   \n",
      "10       11     8.1              7.3                 1              2   \n",
      "11       12     8.1              4.4                 2              4   \n",
      "12       13     8.6              1.6                 4             12   \n",
      "13       14     8.1             21.0                 1              0   \n",
      "14       15     8.4              3.5                 3              5   \n",
      "\n",
      "    HHI_battute  HHI_scene  \n",
      "0          0.10       0.20  \n",
      "1          0.23       0.09  \n",
      "2          0.16       0.12  \n",
      "3          0.14       0.07  \n",
      "4          0.26       0.02  \n",
      "5          0.17       0.24  \n",
      "6          0.18       0.90  \n",
      "7          0.11       0.01  \n",
      "8          1.00       0.70  \n",
      "9          0.90       0.90  \n",
      "10         0.26       0.15  \n",
      "11         0.20       0.13  \n",
      "12         0.14       0.11  \n",
      "13         0.18       0.09  \n",
      "14         0.17       0.23  \n"
     ]
    }
   ],
   "source": [
    "print(dati)"
   ]
  },
  {
   "cell_type": "markdown",
   "metadata": {},
   "source": [
    "REGRESSIONE CON 3 REGRESSORI"
   ]
  },
  {
   "cell_type": "code",
   "execution_count": 15,
   "metadata": {},
   "outputs": [
    {
     "name": "stdout",
     "output_type": "stream",
     "text": [
      "coefficient of determination: 0.07118925993545078\n"
     ]
    }
   ],
   "source": [
    "import numpy as np\n",
    "from sklearn.linear_model import LinearRegression\n",
    "from sklearn.model_selection import train_test_split\n",
    "from sklearn.preprocessing import StandardScaler\n",
    "x = dati.iloc[:,[2,3,4]]\n",
    "y = dati.iloc[:,1]\n",
    "model = LinearRegression()\n",
    "model.fit(x, y)\n",
    "model = LinearRegression().fit(x, y)\n",
    "r_sq = model.score(x, y)\n",
    "print('coefficient of determination:', r_sq)"
   ]
  },
  {
   "cell_type": "code",
   "execution_count": 12,
   "metadata": {},
   "outputs": [
    {
     "name": "stdout",
     "output_type": "stream",
     "text": [
      "coefficient of determination: 0.15453263879005108\n"
     ]
    }
   ],
   "source": [
    "import numpy as np\n",
    "from sklearn.linear_model import LinearRegression\n",
    "from sklearn.model_selection import train_test_split\n",
    "from sklearn.preprocessing import StandardScaler\n",
    "x = dati.iloc[:,[2,3,5]]\n",
    "y = dati.iloc[:,1]\n",
    "model = LinearRegression()\n",
    "model.fit(x, y)\n",
    "model = LinearRegression().fit(x, y)\n",
    "r_sq = model.score(x, y)\n",
    "print('coefficient of determination:', r_sq)"
   ]
  },
  {
   "cell_type": "code",
   "execution_count": 13,
   "metadata": {},
   "outputs": [
    {
     "name": "stdout",
     "output_type": "stream",
     "text": [
      "coefficient of determination: 0.20856297156418668\n"
     ]
    }
   ],
   "source": [
    "import numpy as np\n",
    "from sklearn.linear_model import LinearRegression\n",
    "from sklearn.model_selection import train_test_split\n",
    "from sklearn.preprocessing import StandardScaler\n",
    "x = dati.iloc[:,[2,3,6]]\n",
    "y = dati.iloc[:,1]\n",
    "model = LinearRegression()\n",
    "model.fit(x, y)\n",
    "model = LinearRegression().fit(x, y)\n",
    "r_sq = model.score(x, y)\n",
    "print('coefficient of determination:', r_sq)"
   ]
  },
  {
   "cell_type": "code",
   "execution_count": 14,
   "metadata": {},
   "outputs": [
    {
     "name": "stdout",
     "output_type": "stream",
     "text": [
      "coefficient of determination: 0.10440500199761338\n"
     ]
    }
   ],
   "source": [
    "import numpy as np\n",
    "from sklearn.linear_model import LinearRegression\n",
    "from sklearn.model_selection import train_test_split\n",
    "from sklearn.preprocessing import StandardScaler\n",
    "x = dati.iloc[:,[2,4,5]]\n",
    "y = dati.iloc[:,1]\n",
    "model = LinearRegression()\n",
    "model.fit(x, y)\n",
    "model = LinearRegression().fit(x, y)\n",
    "r_sq = model.score(x, y)\n",
    "print('coefficient of determination:', r_sq)"
   ]
  },
  {
   "cell_type": "code",
   "execution_count": 16,
   "metadata": {},
   "outputs": [
    {
     "name": "stdout",
     "output_type": "stream",
     "text": [
      "coefficient of determination: 0.25276953034140104\n"
     ]
    }
   ],
   "source": [
    "import numpy as np\n",
    "from sklearn.linear_model import LinearRegression\n",
    "from sklearn.model_selection import train_test_split\n",
    "from sklearn.preprocessing import StandardScaler\n",
    "x = dati.iloc[:,[2,4,6]]\n",
    "y = dati.iloc[:,1]\n",
    "model = LinearRegression()\n",
    "model.fit(x, y)\n",
    "model = LinearRegression().fit(x, y)\n",
    "r_sq = model.score(x, y)\n",
    "print('coefficient of determination:', r_sq)"
   ]
  },
  {
   "cell_type": "code",
   "execution_count": 16,
   "metadata": {},
   "outputs": [
    {
     "name": "stdout",
     "output_type": "stream",
     "text": [
      "coefficient of determination: 0.12058667729252004\n"
     ]
    }
   ],
   "source": [
    "import numpy as np\n",
    "from sklearn.linear_model import LinearRegression\n",
    "from sklearn.model_selection import train_test_split\n",
    "from sklearn.preprocessing import StandardScaler\n",
    "x = dati.iloc[:,[2,5,6]]\n",
    "y = dati.iloc[:,1]\n",
    "model = LinearRegression()\n",
    "model.fit(x, y)\n",
    "model = LinearRegression().fit(x, y)\n",
    "r_sq = model.score(x, y)\n",
    "print('coefficient of determination:', r_sq)"
   ]
  },
  {
   "cell_type": "code",
   "execution_count": 17,
   "metadata": {},
   "outputs": [
    {
     "name": "stdout",
     "output_type": "stream",
     "text": [
      "coefficient of determination: 0.08170432047157117\n"
     ]
    }
   ],
   "source": [
    "import numpy as np\n",
    "from sklearn.linear_model import LinearRegression\n",
    "from sklearn.model_selection import train_test_split\n",
    "from sklearn.preprocessing import StandardScaler\n",
    "x = dati.iloc[:,[3,4,5]]\n",
    "y = dati.iloc[:,1]\n",
    "model = LinearRegression()\n",
    "model.fit(x, y)\n",
    "model = LinearRegression().fit(x, y)\n",
    "r_sq = model.score(x, y)\n",
    "print('coefficient of determination:', r_sq)"
   ]
  },
  {
   "cell_type": "code",
   "execution_count": 59,
   "metadata": {},
   "outputs": [
    {
     "name": "stdout",
     "output_type": "stream",
     "text": [
      "coefficient of determination: 0.1577795571367837\n"
     ]
    }
   ],
   "source": [
    "import numpy as np\n",
    "from sklearn.linear_model import LinearRegression\n",
    "from sklearn.model_selection import train_test_split\n",
    "from sklearn.preprocessing import StandardScaler\n",
    "x = dati.iloc[:,[3,4,6]]\n",
    "y = dati.iloc[:,1]\n",
    "model = LinearRegression()\n",
    "model.fit(x, y)\n",
    "model = LinearRegression().fit(x, y)\n",
    "r_sq = model.score(x, y)\n",
    "print('coefficient of determination:', r_sq)"
   ]
  },
  {
   "cell_type": "code",
   "execution_count": 17,
   "metadata": {},
   "outputs": [
    {
     "name": "stdout",
     "output_type": "stream",
     "text": [
      "coefficient of determination: 0.13884819087375277\n"
     ]
    }
   ],
   "source": [
    "import numpy as np\n",
    "from sklearn.linear_model import LinearRegression\n",
    "from sklearn.model_selection import train_test_split\n",
    "from sklearn.preprocessing import StandardScaler\n",
    "x = dati.iloc[:,[3,5,6]]\n",
    "y = dati.iloc[:,1]\n",
    "model = LinearRegression()\n",
    "model.fit(x, y)\n",
    "model = LinearRegression().fit(x, y)\n",
    "r_sq = model.score(x, y)\n",
    "print('coefficient of determination:', r_sq)"
   ]
  },
  {
   "cell_type": "code",
   "execution_count": 57,
   "metadata": {},
   "outputs": [
    {
     "name": "stdout",
     "output_type": "stream",
     "text": [
      "coefficient of determination: 0.16203005523818026\n"
     ]
    }
   ],
   "source": [
    "import numpy as np\n",
    "from sklearn.linear_model import LinearRegression\n",
    "from sklearn.model_selection import train_test_split\n",
    "from sklearn.preprocessing import StandardScaler\n",
    "x = dati.iloc[:,[4,5,6]]\n",
    "y = dati.iloc[:,1]\n",
    "model = LinearRegression()\n",
    "model.fit(x, y)\n",
    "model = LinearRegression().fit(x, y)\n",
    "r_sq = model.score(x, y)\n",
    "print('coefficient of determination:', r_sq)"
   ]
  },
  {
   "cell_type": "markdown",
   "metadata": {},
   "source": [
    "REGRESSIONE CON 4 REGRESSORI"
   ]
  },
  {
   "cell_type": "code",
   "execution_count": 18,
   "metadata": {},
   "outputs": [
    {
     "name": "stdout",
     "output_type": "stream",
     "text": [
      "coefficient of determination: 0.16436522838822165\n"
     ]
    }
   ],
   "source": [
    "import numpy as np\n",
    "from sklearn.linear_model import LinearRegression\n",
    "from sklearn.model_selection import train_test_split\n",
    "from sklearn.preprocessing import StandardScaler\n",
    "x = dati.iloc[:,[2,3,4,5]]\n",
    "y = dati.iloc[:,1]\n",
    "model = LinearRegression()\n",
    "model.fit(x, y)\n",
    "model = LinearRegression().fit(x, y)\n",
    "r_sq = model.score(x, y)\n",
    "print('coefficient of determination:', r_sq)"
   ]
  },
  {
   "cell_type": "code",
   "execution_count": 55,
   "metadata": {},
   "outputs": [
    {
     "name": "stdout",
     "output_type": "stream",
     "text": [
      "coefficient of determination: 0.28834555446477594\n"
     ]
    }
   ],
   "source": [
    "import numpy as np\n",
    "from sklearn.linear_model import LinearRegression\n",
    "from sklearn.model_selection import train_test_split\n",
    "from sklearn.preprocessing import StandardScaler\n",
    "x = dati.iloc[:,[2,3,4,6]]\n",
    "y = dati.iloc[:,1]\n",
    "model = LinearRegression()\n",
    "model.fit(x, y)\n",
    "model = LinearRegression().fit(x, y)\n",
    "r_sq = model.score(x, y)\n",
    "print('coefficient of determination:', r_sq)"
   ]
  },
  {
   "cell_type": "code",
   "execution_count": 54,
   "metadata": {},
   "outputs": [
    {
     "name": "stdout",
     "output_type": "stream",
     "text": [
      "coefficient of determination: 0.21637557436755284\n"
     ]
    }
   ],
   "source": [
    "import numpy as np\n",
    "from sklearn.linear_model import LinearRegression\n",
    "from sklearn.model_selection import train_test_split\n",
    "from sklearn.preprocessing import StandardScaler\n",
    "x = dati.iloc[:,[2,3,5,6]]\n",
    "y = dati.iloc[:,1]\n",
    "model = LinearRegression()\n",
    "model.fit(x, y)\n",
    "model = LinearRegression().fit(x, y)\n",
    "r_sq = model.score(x, y)\n",
    "print('coefficient of determination:', r_sq)"
   ]
  },
  {
   "cell_type": "code",
   "execution_count": 52,
   "metadata": {},
   "outputs": [
    {
     "name": "stdout",
     "output_type": "stream",
     "text": [
      "coefficient of determination: 0.27936203664311154\n"
     ]
    }
   ],
   "source": [
    "import numpy as np\n",
    "from sklearn.linear_model import LinearRegression\n",
    "from sklearn.model_selection import train_test_split\n",
    "from sklearn.preprocessing import StandardScaler\n",
    "x = dati.iloc[:,[2,4,5,6]]\n",
    "y = dati.iloc[:,1]\n",
    "model = LinearRegression()\n",
    "model.fit(x, y)\n",
    "model = LinearRegression().fit(x, y)\n",
    "r_sq = model.score(x, y)\n",
    "print('coefficient of determination:', r_sq)"
   ]
  },
  {
   "cell_type": "code",
   "execution_count": 19,
   "metadata": {},
   "outputs": [
    {
     "name": "stdout",
     "output_type": "stream",
     "text": [
      "coefficient of determination: 0.16306657116850287\n"
     ]
    }
   ],
   "source": [
    "import numpy as np\n",
    "from sklearn.linear_model import LinearRegression\n",
    "from sklearn.model_selection import train_test_split\n",
    "from sklearn.preprocessing import StandardScaler\n",
    "x = dati.iloc[:,[3,4,5,6]]\n",
    "y = dati.iloc[:,1]\n",
    "model = LinearRegression()\n",
    "model.fit(x, y)\n",
    "model = LinearRegression().fit(x, y)\n",
    "r_sq = model.score(x, y)\n",
    "print('coefficient of determination:', r_sq)"
   ]
  },
  {
   "cell_type": "markdown",
   "metadata": {},
   "source": [
    "REEGRESSIONE CON 5 REGRESSORI"
   ]
  },
  {
   "cell_type": "code",
   "execution_count": 20,
   "metadata": {},
   "outputs": [
    {
     "name": "stdout",
     "output_type": "stream",
     "text": [
      "coefficient of determination: 0.294222801471294\n"
     ]
    }
   ],
   "source": [
    "import numpy as np\n",
    "from sklearn.linear_model import LinearRegression\n",
    "from sklearn.model_selection import train_test_split\n",
    "from sklearn.preprocessing import StandardScaler\n",
    "x = dati.iloc[:,[2,3,4,5,6]]\n",
    "y = dati.iloc[:,1]\n",
    "model = LinearRegression()\n",
    "model.fit(x, y)\n",
    "model = LinearRegression().fit(x, y)\n",
    "r_sq = model.score(x, y)\n",
    "print('coefficient of determination:', r_sq)"
   ]
  }
 ],
 "metadata": {
  "kernelspec": {
   "display_name": "Python 3",
   "language": "python",
   "name": "python3"
  },
  "language_info": {
   "codemirror_mode": {
    "name": "ipython",
    "version": 3
   },
   "file_extension": ".py",
   "mimetype": "text/x-python",
   "name": "python",
   "nbconvert_exporter": "python",
   "pygments_lexer": "ipython3",
   "version": "3.8.3"
  }
 },
 "nbformat": 4,
 "nbformat_minor": 4
}
